{
 "cells": [
  {
   "cell_type": "markdown",
   "metadata": {},
   "source": [
    "原因：\n",
    "股票在不同交易所交易，每分钟数据都不相同\n",
    "股票只在上市后的交易日交易\n",
    "股票暂停交易"
   ]
  },
  {
   "cell_type": "markdown",
   "metadata": {},
   "source": [
    "对股票历史数据进行填充，不能直接连直线，那样相当于用将来数据指定当前数据，这样数据就失去了回测意义\n",
    "所以直接沿着断点最左边数据，向前画直线，到断点结束直接上涨到断点即可。\n",
    "\n",
    "对于没有左边数据的起点，则用起点向后填充"
   ]
  },
  {
   "cell_type": "code",
   "execution_count": null,
   "metadata": {
    "collapsed": true
   },
   "outputs": [],
   "source": [
    "import pandas as pd\n",
    "\n",
    "pandas.DataFrame.fillna(method = 'ffill', inplace = True) # pandas向前填充\n",
    "pandas.DataFrame.fillna(method = 'pad', inplace = True) # inpalce = True 使得改动生效\n",
    "\n",
    "pandas.DataFrame.fillna(method = 'bfill', inplace = True) # 向后填充\n",
    "#需要注意的是，先向前填充再向后，避免全部向后填充"
   ]
  },
  {
   "cell_type": "markdown",
   "metadata": {},
   "source": [
    "峰度 Kurtosis \n",
    "+ fat tails\n",
    "- thin tails"
   ]
  },
  {
   "cell_type": "markdown",
   "metadata": {},
   "source": [
    "下面日收益作图学习，接文章3底部内容"
   ]
  },
  {
   "cell_type": "code",
   "execution_count": null,
   "metadata": {
    "collapsed": true
   },
   "outputs": [],
   "source": [
    "daily_returns.hist() # 直方图，默认10个区域\n",
    "daily_returns.hist(bins = 20) # 可通过bins修改默认区块"
   ]
  },
  {
   "cell_type": "markdown",
   "metadata": {},
   "source": [
    "为在图中加入mean，std等数据进行对比，如下"
   ]
  },
  {
   "cell_type": "code",
   "execution_count": null,
   "metadata": {
    "collapsed": true
   },
   "outputs": [],
   "source": [
    "plt.axvline(mean, color = 'w', linestyle = 'dashed', linewidth = 2)\n",
    "# 依次是arg， 指定颜色便于区分， 破折线， 线宽\n",
    "plt.axvline(std, color = 'r', linestyle = 'dashed', linewidth = 2)\n",
    "plt.axvline(-std, color = 'r', linestyle = 'dashed', linewidth = 2)\n",
    "# 一般std需要两边都画"
   ]
  },
  {
   "cell_type": "code",
   "execution_count": null,
   "metadata": {
    "collapsed": true
   },
   "outputs": [],
   "source": [
    "daily_returns.kurtosis() # 返回峰度"
   ]
  },
  {
   "cell_type": "markdown",
   "metadata": {},
   "source": [
    "如果daily_returns 包含两组数据，那将获得两个分开的直方图，怎么在同一张图显示两者呢"
   ]
  },
  {
   "cell_type": "code",
   "execution_count": null,
   "metadata": {
    "collapsed": true
   },
   "outputs": [],
   "source": [
    "daily_returns['SPY'].hist(bins = 20, label = 'SPY')\n",
    "daily_returns['XOM'].hist(bins = 20, label = 'XOM')\n",
    "# 只需要加上【】即可，在参数加上标签来分辨，"
   ]
  },
  {
   "cell_type": "markdown",
   "metadata": {},
   "source": [
    "将股票日收益与基准（例如标普500，上证指数等）比较，做散点图，拟合成直线。\n",
    "得到的斜率就是beta，β，市场风险\n",
    "得到的截距就是alpha，α，如果为正，则代表比基准要好，负则代表不如指数股"
   ]
  },
  {
   "cell_type": "markdown",
   "metadata": {},
   "source": [
    "做两个股票的散点图，并拟合"
   ]
  },
  {
   "cell_type": "code",
   "execution_count": null,
   "metadata": {
    "collapsed": true
   },
   "outputs": [],
   "source": [
    "daily_returns.plot(kind = 'scatter', x = 'SPY', y = 'XOM') # 以SPY基准为x轴\n",
    "# kind参数改变画图方式\n",
    "beta_XOM, alpha_XOM = np.polyfit(daily_returns['SPY'], daily_returns['XOM'])\n",
    "plt.plot(daily_returns['SPY'], beta_XOM * daily_returns['SPY'] + alpha_XOM, '-', color = 'r')\n",
    "# plt.plot(x,y,直线，颜色)"
   ]
  },
  {
   "cell_type": "code",
   "execution_count": null,
   "metadata": {
    "collapsed": true
   },
   "outputs": [],
   "source": [
    "daily_returns.corr(method = 'pearson') # pearson方法是得到相关性最常用的\n",
    "# 将会得到一个dataframe，显示daily_returns所有列相互之间的相关性"
   ]
  }
 ],
 "metadata": {
  "kernelspec": {
   "display_name": "Python 3",
   "language": "python",
   "name": "python3"
  },
  "language_info": {
   "codemirror_mode": {
    "name": "ipython",
    "version": 3
   },
   "file_extension": ".py",
   "mimetype": "text/x-python",
   "name": "python",
   "nbconvert_exporter": "python",
   "pygments_lexer": "ipython3",
   "version": "3.6.1"
  }
 },
 "nbformat": 4,
 "nbformat_minor": 2
}
