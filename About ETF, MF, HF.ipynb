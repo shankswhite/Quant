{
 "cells": [
  {
   "cell_type": "markdown",
   "metadata": {},
   "source": [
    "Expense Ratio\n",
    "ETF, 0.01% - 1% 指数\n",
    "Mutual Funds, 0.5% - 3%\n",
    "HF, two and twenty"
   ]
  },
  {
   "cell_type": "markdown",
   "metadata": {},
   "source": [
    "Dark Pool\n",
    "在交易所与broker之间，付钱给broker for可以看交易所数据，然后如果发现broker有能赚钱的buy or sell，they do，and back to each other\n",
    "法律规定交易价格必须优于交易所，所以buy or sell order都获利，且免了交易所手续费，broker也获利"
   ]
  },
  {
   "cell_type": "markdown",
   "metadata": {},
   "source": [
    "对冲基金利用速度的赚钱方式\n",
    "你下单过去要1秒，让你确认返回的单也要1秒\n",
    "而在你下单过去hf就看到你的单，并立刻买入，比你确认要快，然后再以市场最低价卖给你，从而赚取差价（好爽啊）\n",
    "\n",
    "也可以在不同的交易所利用超高速来观察价格区别，高频赚取差价"
   ]
  },
  {
   "cell_type": "markdown",
   "metadata": {},
   "source": [
    "交易所只执行buy/sell order 或market/limit\n",
    "broker执行 stop loss/gain 或trailing stop（跟踪实时价格的stop loss/gain） 或sell short\n"
   ]
  },
  {
   "cell_type": "markdown",
   "metadata": {},
   "source": [
    "Intrinsic value  按照股利计算 dividend/discount rate（应该是DDM法，还有其他法）\n",
    "book value  按照公司asset计算  asset - intangible asset -liability\n",
    "market cap  市值，outstanding stock  = shares * price"
   ]
  }
 ],
 "metadata": {
  "kernelspec": {
   "display_name": "Python 3",
   "language": "python",
   "name": "python3"
  },
  "language_info": {
   "codemirror_mode": {
    "name": "ipython",
    "version": 3
   },
   "file_extension": ".py",
   "mimetype": "text/x-python",
   "name": "python",
   "nbconvert_exporter": "python",
   "pygments_lexer": "ipython3",
   "version": "3.6.1"
  }
 },
 "nbformat": 4,
 "nbformat_minor": 2
}
