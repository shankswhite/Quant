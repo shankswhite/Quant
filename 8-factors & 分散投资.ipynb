{
 "cells": [
  {
   "cell_type": "markdown",
   "metadata": {},
   "source": [
    "factors or named ‘indicators’, following there is three:\n",
    "momentum - 认为趋势有动量，会持续\n",
    "simple moving average\n",
    "bollinger bands - 当股票线走出布林带又回来时，是交易时机"
   ]
  },
  {
   "cell_type": "markdown",
   "metadata": {},
   "source": [
    "处理多个股票数据及种类时，记得归一化"
   ]
  },
  {
   "cell_type": "markdown",
   "metadata": {},
   "source": [
    "performance = skill * 根号breadth\n",
    "information ratio才是衡量策略的最佳指标，IR指只关注α的sharpe_ratio\n",
    "Information coefficient 收益预测系数\n",
    "Breadth 交易机会的数量，即持可交易流动股数量\n",
    "IR = IC * 根号BR\n",
    "\n",
    "收益performance注重两点，一个是自身skill，另一个是分散投资，分散投资很容易达到，不过越多收益增加越少"
   ]
  },
  {
   "cell_type": "markdown",
   "metadata": {},
   "source": [
    "mean variance optimization MVO\n",
    "一个用来得到anti-correlated portfolio的算法\n",
    "需要输入4个值，分别是：\n",
    "Expected return\n",
    "Volatility\n",
    "Covariance\n",
    "Target return"
   ]
  }
 ],
 "metadata": {
  "kernelspec": {
   "display_name": "Python 3",
   "language": "python",
   "name": "python3"
  },
  "language_info": {
   "codemirror_mode": {
    "name": "ipython",
    "version": 3
   },
   "file_extension": ".py",
   "mimetype": "text/x-python",
   "name": "python",
   "nbconvert_exporter": "python",
   "pygments_lexer": "ipython3",
   "version": "3.6.1"
  }
 },
 "nbformat": 4,
 "nbformat_minor": 2
}
