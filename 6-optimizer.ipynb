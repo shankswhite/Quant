{
 "cells": [
  {
   "cell_type": "code",
   "execution_count": 3,
   "metadata": {},
   "outputs": [],
   "source": [
    "import pandas as pd\n",
    "import matplotlib.pyplot as plt\n",
    "import numpy as np\n",
    "import scipy.optimize as spo\n",
    "\n",
    "def f(X):\n",
    "    Y = (X - 1.5) ** 2 + 0.5\n",
    "    print ('X= {}, Y = {}'.format(X, Y))\n",
    "    return Y"
   ]
  },
  {
   "cell_type": "markdown",
   "metadata": {},
   "source": [
    "搜索最小值的优化器"
   ]
  },
  {
   "cell_type": "code",
   "execution_count": 4,
   "metadata": {},
   "outputs": [
    {
     "name": "stdout",
     "output_type": "stream",
     "text": [
      "X= [ 2.], Y = [ 0.75]\n",
      "X= [ 2.], Y = [ 0.75]\n",
      "X= [ 2.00000001], Y = [ 0.75000001]\n",
      "X= [ 0.99999999], Y = [ 0.75000001]\n",
      "X= [ 1.5], Y = [ 0.5]\n",
      "X= [ 1.5], Y = [ 0.5]\n",
      "X= [ 1.50000001], Y = [ 0.5]\n",
      "Optimization terminated successfully.    (Exit mode 0)\n",
      "            Current function value: 0.5\n",
      "            Iterations: 2\n",
      "            Function evaluations: 7\n",
      "            Gradient evaluations: 2\n",
      "X = [ 1.5], Y = 0.5\n"
     ]
    }
   ],
   "source": [
    "Xguess = 2.0 # set guess value\n",
    "min_result = spo.minimize(f, Xguess, method = 'SLSQP', options = {'disp': True})\n",
    "# 依次是（函数，猜测值，方法，是否显示详细信息）\n",
    "print ('X = {}, Y = {}'.format(min_result.x, min_result.fun))"
   ]
  },
  {
   "cell_type": "code",
   "execution_count": 5,
   "metadata": {},
   "outputs": [
    {
     "name": "stdout",
     "output_type": "stream",
     "text": [
      "X= [ 0.5  0.6  0.7  0.8  0.9  1.   1.1  1.2  1.3  1.4  1.5  1.6  1.7  1.8  1.9\n",
      "  2.   2.1  2.2  2.3  2.4  2.5], Y = [ 1.5   1.31  1.14  0.99  0.86  0.75  0.66  0.59  0.54  0.51  0.5   0.51\n",
      "  0.54  0.59  0.66  0.75  0.86  0.99  1.14  1.31  1.5 ]\n"
     ]
    },
    {
     "data": {
      "image/png": "[encoded data removed]",
      "text/plain": [
       "<matplotlib.figure.Figure at 0x25eaaf05a20>"
      ]
     },
     "metadata": {},
     "output_type": "display_data"
    }
   ],
   "source": [
    "Xplot = np.linspace(0.5, 2.5, 21)\n",
    "Yplot = f(Xplot)\n",
    "plt.plot(Xplot, Yplot) \n",
    "plt.plot(min_result.x, min_result.fun, 'ro') # 在最小值处set 一个红色的圆\n",
    "plt.title('minima of an objective function')\n",
    "plt.show()"
   ]
  },
  {
   "cell_type": "markdown",
   "metadata": {},
   "source": [
    "上面的方法仅限于找 连续的，单一最小值的，没有平线的minima，还有其他方法可以解决其他多种情况的minima"
   ]
  },
  {
   "cell_type": "markdown",
   "metadata": {},
   "source": [
    "理解凸函数convex function的概念，任意取两点，两点所连成的直线上方没有graph region，组成的闭合区域。"
   ]
  },
  {
   "cell_type": "markdown",
   "metadata": {},
   "source": [
    "如何通过优化器找到之前5中得到的拟合直线呢\n",
    "首先优化器可以用来找最小值，那就想到了最小二乘法，来吧\n",
    "我们要先找到把什么作为最小值，即方差，如下"
   ]
  },
  {
   "cell_type": "code",
   "execution_count": 6,
   "metadata": {
    "collapsed": true
   },
   "outputs": [],
   "source": [
    "def error(line, data):\n",
    "    # line : tuple/list/array like(C0, C1), C0-slope, C1-intercept\n",
    "    # data : 2D array where each row is a point(x, y)\n",
    "    err = np.sum((data[:, 1] - (line[0] * data[:, 0] + line[1])) ** 2)\n",
    "    return err"
   ]
  },
  {
   "cell_type": "code",
   "execution_count": 9,
   "metadata": {},
   "outputs": [
    {
     "name": "stdout",
     "output_type": "stream",
     "text": [
      "original line: C0 = 4.0, C1 = 2.0\n"
     ]
    }
   ],
   "source": [
    "l_orig = np.float32([4, 2])\n",
    "print ('original line: C0 = {}, C1 = {}'.format(l_orig[0],l_orig[1]))"
   ]
  },
  {
   "cell_type": "code",
   "execution_count": 12,
   "metadata": {},
   "outputs": [
    {
     "data": {
      "image/png": "[encoded data removed]",
      "text/plain": [
       "<matplotlib.figure.Figure at 0x25ea9d90080>"
      ]
     },
     "metadata": {},
     "output_type": "display_data"
    }
   ],
   "source": [
    "Xorig = np.linspace(0, 10, 21)\n",
    "Yorig = l_orig[0] * Xorig + l_orig[1]\n",
    "plt.plot(Xorig, Yorig, 'b--', linewidth = 2.0, label = 'original line')\n",
    "plt.show()"
   ]
  },
  {
   "cell_type": "code",
   "execution_count": null,
   "metadata": {
    "collapsed": true
   },
   "outputs": [],
   "source": []
  }
 ],
 "metadata": {
  "kernelspec": {
   "display_name": "Python 3",
   "language": "python",
   "name": "python3"
  },
  "language_info": {
   "codemirror_mode": {
    "name": "ipython",
    "version": 3
   },
   "file_extension": ".py",
   "mimetype": "text/x-python",
   "name": "python",
   "nbconvert_exporter": "python",
   "pygments_lexer": "ipython3",
   "version": "3.6.1"
  }
 },
 "nbformat": 4,
 "nbformat_minor": 2
}
