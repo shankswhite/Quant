{
 "cells": [
  {
   "cell_type": "code",
   "execution_count": 2,
   "metadata": {
    "collapsed": true
   },
   "outputs": [],
   "source": [
    "import pandas as pd\n",
    "import matplotlib.pyplot as plt\n",
    "import numpy as np\n",
    "import scipy.optimize as spo\n",
    "\n",
    "def f(X):\n",
    "    Y = (X - 1.5) ** 2 + 0.5\n",
    "    print ('X= {}, Y = {}'.format(X, Y))\n",
    "    return Y"
   ]
  },
  {
   "cell_type": "markdown",
   "metadata": {},
   "source": [
    "搜索最小值的优化器"
   ]
  },
  {
   "cell_type": "code",
   "execution_count": 3,
   "metadata": {},
   "outputs": [
    {
     "name": "stdout",
     "output_type": "stream",
     "text": [
      "X= [ 2.], Y = [ 0.75]\n",
      "X= [ 2.], Y = [ 0.75]\n",
      "X= [ 2.00000001], Y = [ 0.75000001]\n",
      "X= [ 0.99999999], Y = [ 0.75000001]\n",
      "X= [ 1.5], Y = [ 0.5]\n",
      "X= [ 1.5], Y = [ 0.5]\n",
      "X= [ 1.50000001], Y = [ 0.5]\n",
      "Optimization terminated successfully.    (Exit mode 0)\n",
      "            Current function value: 0.5\n",
      "            Iterations: 2\n",
      "            Function evaluations: 7\n",
      "            Gradient evaluations: 2\n",
      "X = [ 1.5], Y = 0.5\n"
     ]
    }
   ],
   "source": [
    "Xguess = 2.0 # set guess value\n",
    "min_result = spo.minimize(f, Xguess, method = 'SLSQP', options = {'disp': True})\n",
    "# 依次是（函数，猜测值，方法，是否显示详细信息）\n",
    "print ('X = {}, Y = {}'.format(min_result.x, min_result.fun))"
   ]
  },
  {
   "cell_type": "code",
   "execution_count": 4,
   "metadata": {},
   "outputs": [
    {
     "name": "stdout",
     "output_type": "stream",
     "text": [
      "X= [ 0.5  0.6  0.7  0.8  0.9  1.   1.1  1.2  1.3  1.4  1.5  1.6  1.7  1.8  1.9\n",
      "  2.   2.1  2.2  2.3  2.4  2.5], Y = [ 1.5   1.31  1.14  0.99  0.86  0.75  0.66  0.59  0.54  0.51  0.5   0.51\n",
      "  0.54  0.59  0.66  0.75  0.86  0.99  1.14  1.31  1.5 ]\n"
     ]
    },
    {
     "data": {
      "image/png": "[encoded data removed]",
      "text/plain": [
       "<matplotlib.figure.Figure at 0x212ecaf3be0>"
      ]
     },
     "metadata": {},
     "output_type": "display_data"
    }
   ],
   "source": [
    "Xplot = np.linspace(0.5, 2.5, 21)\n",
    "Yplot = f(Xplot)\n",
    "plt.plot(Xplot, Yplot) \n",
    "plt.plot(min_result.x, min_result.fun, 'ro') # 在最小值处set 一个红色的圆\n",
    "plt.title('minima of an objective function')\n",
    "plt.show()"
   ]
  },
  {
   "cell_type": "markdown",
   "metadata": {},
   "source": [
    "上面的方法仅限于找 连续的，单一最小值的，没有平线的minima，还有其他方法可以解决其他多种情况的minima，在介绍完这个之后再介绍"
   ]
  },
  {
   "cell_type": "markdown",
   "metadata": {},
   "source": [
    "理解凸函数convex function的概念，任意取两点，两点所连成的直线上方没有graph region，组成的闭合区域。"
   ]
  },
  {
   "cell_type": "markdown",
   "metadata": {},
   "source": [
    "如何通过优化器找到之前5中得到的拟合直线呢\n",
    "首先优化器可以用来找最小值，那就想到了最小二乘法，来吧\n",
    "我们要先找到把什么作为最小值，即方差，如下"
   ]
  },
  {
   "cell_type": "code",
   "execution_count": 5,
   "metadata": {
    "collapsed": true
   },
   "outputs": [],
   "source": [
    "def error(line, data):\n",
    "    # line : tuple/list/array like(C0, C1), C0-slope, C1-intercept\n",
    "    # data : 2D array where each row is a point(x, y)\n",
    "    err = np.sum((data[:, 1] - (line[0] * data[:, 0] + line[1])) ** 2)\n",
    "    return err"
   ]
  },
  {
   "cell_type": "code",
   "execution_count": 6,
   "metadata": {},
   "outputs": [
    {
     "name": "stdout",
     "output_type": "stream",
     "text": [
      "original line: C0 = 4.0, C1 = 2.0\n"
     ]
    }
   ],
   "source": [
    "l_orig = np.float32([4, 2])\n",
    "print ('original line: C0 = {}, C1 = {}'.format(l_orig[0],l_orig[1]))"
   ]
  },
  {
   "cell_type": "code",
   "execution_count": 18,
   "metadata": {
    "scrolled": true
   },
   "outputs": [
    {
     "data": {
      "image/png": "[encoded data removed]",
      "text/plain": [
       "<matplotlib.figure.Figure at 0x212f06c1668>"
      ]
     },
     "metadata": {},
     "output_type": "display_data"
    }
   ],
   "source": [
    "Xorig = np.linspace(0, 10, 21)\n",
    "Yorig = l_orig[0] * Xorig + l_orig[1]\n",
    "plt.plot(Xorig, Yorig, 'b--', linewidth = 2.0, label = 'original line')\n",
    "plt.show()"
   ]
  },
  {
   "cell_type": "code",
   "execution_count": 25,
   "metadata": {},
   "outputs": [
    {
     "data": {
      "text/plain": [
       "[<matplotlib.lines.Line2D at 0x212f1aab9e8>]"
      ]
     },
     "execution_count": 25,
     "metadata": {},
     "output_type": "execute_result"
    }
   ],
   "source": [
    "noise_sigma = 3.0\n",
    "noise = np.random.normal(0, noise_sigma, Yorig.shape)\n",
    "data = np.asarray([Xorig, Yorig + noise]).T\n",
    "plt.plot(data[:, 0], data[:, 1], 'go', label = 'Data points') \n",
    "# 如果加入plt.show，就无法在下面的图看到两个一起的效果了\n",
    "# 加入噪音创作一条需要拟合的线"
   ]
  },
  {
   "cell_type": "code",
   "execution_count": 23,
   "metadata": {
    "collapsed": true
   },
   "outputs": [],
   "source": [
    "def fit_line(data, error_func): # data是加了noise的2D array\n",
    "    l = np.float32([0, np.mean(data[:, 1])]) # slope = 0, intercept = mean y values\n",
    "    \n",
    "    x_ends = np.float32([-5, 5])\n",
    "    plt.plot(x_ends, l[0] * x_ends + l[1], 'm--', linewidth = 2.0, label = 'initial line')\n",
    "    #初始猜测线\n",
    "    \n",
    "    result = spo.minimize(error_func, l, args = (data,), method = 'SLSQP', options = {'disp':True}) # disp=display\n",
    "    # args参数是指数据进入方式\n",
    "    return result.x"
   ]
  },
  {
   "cell_type": "code",
   "execution_count": 26,
   "metadata": {},
   "outputs": [
    {
     "name": "stdout",
     "output_type": "stream",
     "text": [
      "Optimization terminated successfully.    (Exit mode 0)\n",
      "            Current function value: 236.00817616406948\n",
      "            Iterations: 5\n",
      "            Function evaluations: 24\n",
      "            Gradient evaluations: 5\n",
      "Fitted line: C0 = 4.157570673344823, C1 = 0.044936701076709634\n"
     ]
    },
    {
     "data": {
      "image/png": "[encoded data removed]",
      "text/plain": [
       "<matplotlib.figure.Figure at 0x212f1a39a20>"
      ]
     },
     "metadata": {},
     "output_type": "display_data"
    }
   ],
   "source": [
    "l_fit = fit_line(data, error)\n",
    "print ('Fitted line: C0 = {}, C1 = {}'.format(l_fit[0], l_fit[1]))\n",
    "plt.plot(data[:, 0], l_fit[0] * data[:, 0] + l_fit[1], 'r--', linewidth = 2.0)\n",
    "plt.show()"
   ]
  },
  {
   "cell_type": "markdown",
   "metadata": {},
   "source": [
    "复杂的多项式曲线拟合"
   ]
  },
  {
   "cell_type": "code",
   "execution_count": 27,
   "metadata": {
    "collapsed": true
   },
   "outputs": [],
   "source": [
    "def error_poly(C, data):\n",
    "    # C : numpy.poly1d object，代表多项式系数\n",
    "    # data ：2D array as point x,y\n",
    "    err = np.sum((data[:, 1] - np.polyval(C, data[:, 0])) ** 2)\n",
    "    return err"
   ]
  },
  {
   "cell_type": "code",
   "execution_count": 29,
   "metadata": {},
   "outputs": [
    {
     "data": {
      "text/plain": [
       "poly1d([ 1.,  1.,  1.,  1.], dtype=float32)"
      ]
     },
     "execution_count": 29,
     "metadata": {},
     "output_type": "execute_result"
    }
   ],
   "source": [
    "np.poly1d(np.ones(3 + 1, dtype = np.float32))"
   ]
  },
  {
   "cell_type": "code",
   "execution_count": null,
   "metadata": {
    "collapsed": true
   },
   "outputs": [],
   "source": [
    "def fit_poly(data, error_func, degree = 3):\n",
    "    \n",
    "    Cguess = np.poly1d(np.ones(degree + 1, dtype = np.float32)) # poly1d得到多项式序列，np.ones即都是1\n",
    "    \n",
    "    x = np.linspace(-5, 5, 21)\n",
    "    plt.plot(x, np.polyval(Cguess, x), 'm--', linewidth = 2.0, label = 'initial guess')\n",
    "    \n",
    "    result = spo.minimize(error_func, Cguess, args = (data,), method = 'SLSQP', option = {'disp':True})\n",
    "    return np.poly1d(result.x)"
   ]
  },
  {
   "cell_type": "markdown",
   "metadata": {},
   "source": [
    "对于资产组合来讲，原理是一样的\n",
    "a function to minimize ：- sharpe_ratio 参数是下面的X\n",
    "a initial guess for X: 资产分配\n",
    "call the optimizer"
   ]
  },
  {
   "cell_type": "markdown",
   "metadata": {},
   "source": [
    "需要注意的两点是\n",
    "range，资产分配范围为0-1，不限制范围可能会出现一个分配-1，另一个2的情况，所以我们要设置range给optimizer，这样也会变得更快\n",
    "constraints，必须限制资产分配总和为1，True\n"
   ]
  }
 ],
 "metadata": {
  "kernelspec": {
   "display_name": "Python 3",
   "language": "python",
   "name": "python3"
  },
  "language_info": {
   "codemirror_mode": {
    "name": "ipython",
    "version": 3
   },
   "file_extension": ".py",
   "mimetype": "text/x-python",
   "name": "python",
   "nbconvert_exporter": "python",
   "pygments_lexer": "ipython3",
   "version": "3.6.1"
  }
 },
 "nbformat": 4,
 "nbformat_minor": 2
}
