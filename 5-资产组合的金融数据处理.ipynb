{
 "cells": [
  {
   "cell_type": "markdown",
   "metadata": {},
   "source": [
    "分为4步\n",
    "1，将数据normalize\n",
    "2，将normaled乘以分配系数\n",
    "3，继续* start_val\n",
    "4，将3所得到的值按行求和，values.sum(axis = 1)\n",
    "\n",
    "最后得到的日收益率，在第一天都是0，我们通过daily_rets = daily_rets[1:]排掉它\n",
    "\n",
    "然后就可以评估策略performance了\n",
    "以下四个指标\n",
    "\n",
    "cum_ret 累积    （values[-1]/values[0]） - 1\n",
    "avg_daily_ret   daily_rets.mean()\n",
    "std_daily_ret   daily_rets.std()\n",
    "sharpe_ratio在下面介绍"
   ]
  },
  {
   "cell_type": "code",
   "execution_count": null,
   "metadata": {
    "collapsed": true
   },
   "outputs": [],
   "source": [
    "sharpe_ratio = mean(daily_rets - daily_rf) / std(dailt_rets)"
   ]
  },
  {
   "cell_type": "markdown",
   "metadata": {},
   "source": [
    "有三个可作为rf的参考量：LIBOR，3 months T-bill，0%\n",
    "一般采用的是无风险年收益率，所以我们要将rf + 1取它的根号252，即1/252次方,得到日化无风险收益率daily_rf"
   ]
  },
  {
   "cell_type": "markdown",
   "metadata": {},
   "source": [
    "sharpe_ratio 在不同样本频率时得到的值不同，例如weekly，monthly，yearly\n",
    "我们可以通过设置一个K来将daily的调整为我们所需的\n",
    "K = 根号下（样本频率），即\n",
    "K = 根号252 yearly\n",
    "K = 根号52 weekly\n",
    "\n",
    "即最终sharpe_ratio = 根号下（样本频率） * mean(daily_rets - daily_rf) / std(dailt_rets)"
   ]
  },
  {
   "cell_type": "markdown",
   "metadata": {},
   "source": [
    "basic points(bps)\n",
    "1 bps = 0.0001 = 0.01%"
   ]
  },
  {
   "cell_type": "code",
   "execution_count": 2,
   "metadata": {
    "scrolled": false
   },
   "outputs": [
    {
     "data": {
      "text/plain": [
       "array([ 0.01,  0.01,  0.01,  0.01,  0.01,  0.01,  0.01,  0.01,  0.01,\n",
       "        0.01,  0.01,  0.01,  0.01,  0.01,  0.01,  0.01,  0.01,  0.01,\n",
       "        0.01,  0.01,  0.01,  0.01,  0.01,  0.01,  0.01,  0.01,  0.01,\n",
       "        0.01,  0.01,  0.01,  0.01,  0.01,  0.01,  0.01,  0.01,  0.01,\n",
       "        0.01,  0.01,  0.01,  0.01,  0.01,  0.01,  0.01,  0.01,  0.01,\n",
       "        0.01,  0.01,  0.01,  0.01,  0.01,  0.01,  0.01,  0.01,  0.01,\n",
       "        0.01,  0.01,  0.01,  0.01,  0.01,  0.01,  0.01,  0.01,  0.01,\n",
       "        0.01,  0.01,  0.01,  0.01,  0.01,  0.01,  0.01,  0.01,  0.01,\n",
       "        0.01,  0.01,  0.01,  0.01,  0.01,  0.01,  0.01,  0.01,  0.01,\n",
       "        0.01,  0.01,  0.01,  0.01,  0.01,  0.01,  0.01,  0.01,  0.01,\n",
       "        0.01,  0.01,  0.01,  0.01,  0.01,  0.01,  0.01,  0.01,  0.01,  0.01])"
      ]
     },
     "execution_count": 2,
     "metadata": {},
     "output_type": "execute_result"
    }
   ],
   "source": [
    "import numpy as np\n",
    "np.full(100, 0.01)"
   ]
  },
  {
   "cell_type": "code",
   "execution_count": 4,
   "metadata": {},
   "outputs": [
    {
     "name": "stdout",
     "output_type": "stream",
     "text": [
      "1\n",
      "2\n",
      "3\n",
      "4\n"
     ]
    }
   ],
   "source": [
    "def a(*args):\n",
    "    for value in args:\n",
    "        print (value)\n",
    "        \n",
    "a(1, 2, 3, 4)"
   ]
  },
  {
   "cell_type": "code",
   "execution_count": 17,
   "metadata": {},
   "outputs": [
    {
     "data": {
      "text/plain": [
       "[2, 3]"
      ]
     },
     "execution_count": 17,
     "metadata": {},
     "output_type": "execute_result"
    }
   ],
   "source": [
    "a = {'1': 2, '2': 3}\n",
    "list(a.values())"
   ]
  },
  {
   "cell_type": "code",
   "execution_count": null,
   "metadata": {
    "collapsed": true
   },
   "outputs": [],
   "source": [
    "\n",
    "def sharpe_ratio(stock):\n",
    "    return mean(daily_rets - daily_rf) / std(dailt_rets)\n",
    "\n",
    "def sharpe_ratio_p(array):\n",
    "    p_sr = 0\n",
    "    for value in range(len(array)):\n",
    "        p_sr = p_sr + array[value] * stock[value]\n",
    "    \n",
    "    return p_sr\n",
    "\n",
    "\n",
    "    \n",
    "    \n",
    "result = spo.minimize(sharpe_ratio_p, l, args = (data,), method = 'SLSQP', options = {'disp':True})"
   ]
  }
 ],
 "metadata": {
  "kernelspec": {
   "display_name": "Python 3",
   "language": "python",
   "name": "python3"
  },
  "language_info": {
   "codemirror_mode": {
    "name": "ipython",
    "version": 3
   },
   "file_extension": ".py",
   "mimetype": "text/x-python",
   "name": "python",
   "nbconvert_exporter": "python",
   "pygments_lexer": "ipython3",
   "version": "3.6.1"
  }
 },
 "nbformat": 4,
 "nbformat_minor": 2
}
