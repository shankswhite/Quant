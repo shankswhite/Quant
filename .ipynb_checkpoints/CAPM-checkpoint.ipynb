{
 "cells": [
  {
   "cell_type": "markdown",
   "metadata": {},
   "source": [
    "rp = β* rm + α\n",
    "CAPM认为α是随机的，expected value = 0\n",
    "所以CAPM认为只能在市场行情好的时候选择高β，不好的时候选择低β，来得到收益。但capm也认为无法beat market，所以上述也不适用于投资"
   ]
  },
  {
   "cell_type": "markdown",
   "metadata": {},
   "source": [
    "还有个CFA里都没有的APT模型，Arbitrage Pricing Theory\n",
    "意思是一个发行股票的公司，他的不同部门应有不同的市场β，例如金融，技术等。分开计算将会更加准确"
   ]
  },
  {
   "cell_type": "markdown",
   "metadata": {},
   "source": [
    "对于portfolio来讲，\n",
    "rp = Ewi(β* rm + α) 是各股票加权和\n",
    "那我们就可以通过调整股票的权，来使得β* rm部分=0，从而对冲掉市场风险"
   ]
  }
 ],
 "metadata": {
  "kernelspec": {
   "display_name": "Python 3",
   "language": "python",
   "name": "python3"
  },
  "language_info": {
   "codemirror_mode": {
    "name": "ipython",
    "version": 3
   },
   "file_extension": ".py",
   "mimetype": "text/x-python",
   "name": "python",
   "nbconvert_exporter": "python",
   "pygments_lexer": "ipython3",
   "version": "3.6.1"
  }
 },
 "nbformat": 4,
 "nbformat_minor": 2
}
