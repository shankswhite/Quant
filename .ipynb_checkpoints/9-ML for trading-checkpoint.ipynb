{
 "cells": [
  {
   "cell_type": "markdown",
   "metadata": {},
   "source": [
    "机器学习简单的来说就是通过一系列的x得到一个单维的y，这个处理过程就是机器学习创建的model\n",
    "在金融里就是输入股票的历史数据等，来得到一个model，然后输入x来得到未来预测价格\n",
    "\n",
    "目前主流的model还不是机器学习，例如Black-Scholes model，BS公式用来预测期权价格"
   ]
  },
  {
   "cell_type": "markdown",
   "metadata": {},
   "source": [
    "主要用到的是监督式学习\n",
    "参数回归\n",
    "    有一些缺点，noisy and uncertain；challenging estimate confidence；holding time & allocation，可以用增强学习来解决，但现在先学基础\n",
    "    随degree增加，越来越容易过拟合（in sample small error，out of sample big error，相反关系）\n",
    "    learner = linreglearner()\n",
    "    learner.train(train_x, train_y)\n",
    "    y = learner.query(test_x)\n",
    "K近邻\n",
    "    与参数回归不同，K近邻保留原始数据，然后通过设定的邻居值k，来通过x得到相近的k个值，取他们的y值平均；缺点是边界预测效果差,k值越多越不容易过拟合\n",
    "    learner = KNNlearner(K=3)\n",
    "    learner.train(train_x, train_y)\n",
    "    y = learner.query(test_x)\n",
    "核回归\n",
    "    与K近邻相似，不过核回归会计算邻居值的距离，来分配权，从而更加准确。Knn则是同权\n",
    "决策树\n",
    "决策森林\n",
    "\n",
    "参数方法训练慢，query快\n",
    "非参数方法训练快，query慢\n",
    "因为随着数据增加，参数方法必须重新train，而非参数方法因为保留原始数据，几乎不费时间"
   ]
  },
  {
   "cell_type": "markdown",
   "metadata": {},
   "source": [
    "首先需要得到的是X\n",
    "比如：我们通过回看历史数据，某一天的价格与5天后的价格，来组成pair，这样就得到了X\n",
    "然后使用train_x，train_y得到model，然后用test_x，test_y回测\n",
    "那我们需要得到什么类型的X呢，布林带？PE？很多都可以"
   ]
  },
  {
   "cell_type": "markdown",
   "metadata": {},
   "source": [
    "如果数据量少，就要用到交叉检验，即分为5块，80%train 20%test，5块轮换做test，求ac"
   ]
  },
  {
   "cell_type": "code",
   "execution_count": null,
   "metadata": {
    "collapsed": true
   },
   "outputs": [],
   "source": [
    "emsemble learners\n",
    "可以把x交给多个learner，取y平均值，这样做的好处是：\n",
    "lower error\n",
    "less overfitting\n",
    "tastes great"
   ]
  },
  {
   "cell_type": "code",
   "execution_count": null,
   "metadata": {
    "collapsed": true
   },
   "outputs": [],
   "source": [
    "Bootstrap aggregating bagging- low overfitting\n",
    "使用同一learner，将train_data分为好几个bag，然后对其进行train，得到对应bag的几个model，然后input x得到y，取mean"
   ]
  },
  {
   "cell_type": "markdown",
   "metadata": {},
   "source": [
    "Boosting - lower error\n",
    "使用同一learner，先将train_data一部分数据提到一个bag，然后train得到model后，使用全部train_data来test model；然后将error大的数据给予更大的权，在创建第二个bag时候，权大的有更大几率出现在bag中"
   ]
  },
  {
   "cell_type": "code",
   "execution_count": null,
   "metadata": {
    "collapsed": true
   },
   "outputs": [],
   "source": [
    "reinforcement learning\n",
    "自动调整learner使得收益最大化\n",
    "Markov decision problems:\n",
    "    set of states S\n",
    "    set of actions A\n",
    "    Transition function T(s, a, s')\n",
    "    reward function R(s ,a)\n"
   ]
  }
 ],
 "metadata": {
  "kernelspec": {
   "display_name": "Python 3",
   "language": "python",
   "name": "python3"
  },
  "language_info": {
   "codemirror_mode": {
    "name": "ipython",
    "version": 3
   },
   "file_extension": ".py",
   "mimetype": "text/x-python",
   "name": "python",
   "nbconvert_exporter": "python",
   "pygments_lexer": "ipython3",
   "version": "3.6.1"
  }
 },
 "nbformat": 4,
 "nbformat_minor": 2
}
